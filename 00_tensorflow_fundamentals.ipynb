{
  "nbformat": 4,
  "nbformat_minor": 0,
  "metadata": {
    "colab": {
      "provenance": [],
      "gpuType": "T4",
      "authorship_tag": "ABX9TyOxDxwl1Y8YxU0zeuq0/lez",
      "include_colab_link": true
    },
    "kernelspec": {
      "name": "python3",
      "display_name": "Python 3"
    },
    "language_info": {
      "name": "python"
    },
    "accelerator": "GPU"
  },
  "cells": [
    {
      "cell_type": "markdown",
      "metadata": {
        "id": "view-in-github",
        "colab_type": "text"
      },
      "source": [
        "<a href=\"https://colab.research.google.com/github/bartaLevente/udemy_tensorflow/blob/main/00_tensorflow_fundamentals.ipynb\" target=\"_parent\"><img src=\"https://colab.research.google.com/assets/colab-badge.svg\" alt=\"Open In Colab\"/></a>"
      ]
    },
    {
      "cell_type": "code",
      "execution_count": 1,
      "metadata": {
        "id": "XKR_H_NnsWgH"
      },
      "outputs": [],
      "source": [
        "import tensorflow as tf"
      ]
    },
    {
      "cell_type": "markdown",
      "source": [
        "#Tensors"
      ],
      "metadata": {
        "id": "y2OLatGrs-OT"
      }
    },
    {
      "cell_type": "code",
      "source": [
        "print(tf.__version__)"
      ],
      "metadata": {
        "colab": {
          "base_uri": "https://localhost:8080/"
        },
        "id": "wGDiA7P1sj40",
        "outputId": "add6b2c9-f616-483d-ea5f-c714a9de4e64"
      },
      "execution_count": 3,
      "outputs": [
        {
          "output_type": "stream",
          "name": "stdout",
          "text": [
            "2.18.0\n"
          ]
        }
      ]
    },
    {
      "cell_type": "code",
      "source": [
        "scalar = tf.constant(7)\n",
        "print(scalar)\n",
        "print(scalar.ndim)"
      ],
      "metadata": {
        "colab": {
          "base_uri": "https://localhost:8080/"
        },
        "id": "qf4PTnPGtLSH",
        "outputId": "1a432a3c-5942-4104-bcd2-57c7e1341fc8"
      },
      "execution_count": 4,
      "outputs": [
        {
          "output_type": "stream",
          "name": "stdout",
          "text": [
            "tf.Tensor(7, shape=(), dtype=int32)\n",
            "0\n"
          ]
        }
      ]
    },
    {
      "cell_type": "code",
      "source": [
        "vector = tf.constant([2,4])\n",
        "print(vector)\n",
        "print(vector.ndim)"
      ],
      "metadata": {
        "colab": {
          "base_uri": "https://localhost:8080/"
        },
        "id": "axFxmGeEtbJw",
        "outputId": "d5b985e2-81fc-4f63-d630-68071edcd533"
      },
      "execution_count": 5,
      "outputs": [
        {
          "output_type": "stream",
          "name": "stdout",
          "text": [
            "tf.Tensor([2 4], shape=(2,), dtype=int32)\n",
            "1\n"
          ]
        }
      ]
    },
    {
      "cell_type": "code",
      "source": [
        "matrix = tf.constant([[1.,2],\n",
        "                      [4,5]])\n",
        "print(matrix)\n",
        "print(matrix.ndim)"
      ],
      "metadata": {
        "colab": {
          "base_uri": "https://localhost:8080/"
        },
        "id": "Vb06q699ttx6",
        "outputId": "5abf4f18-110d-4d87-cf14-444fe05223e9"
      },
      "execution_count": 6,
      "outputs": [
        {
          "output_type": "stream",
          "name": "stdout",
          "text": [
            "tf.Tensor(\n",
            "[[1. 2.]\n",
            " [4. 5.]], shape=(2, 2), dtype=float32)\n",
            "2\n"
          ]
        }
      ]
    },
    {
      "cell_type": "code",
      "source": [
        "tensor = tf.constant([\n",
        "    [[1,2],[1,2]],\n",
        "    [[1,2],[1,2]],\n",
        "])\n",
        "\n",
        "print(tensor)\n",
        "print(tensor.ndim)"
      ],
      "metadata": {
        "colab": {
          "base_uri": "https://localhost:8080/"
        },
        "id": "Go2t_SC0uAbU",
        "outputId": "4a16df51-b58e-423e-811f-17a8a6cbe82d"
      },
      "execution_count": 7,
      "outputs": [
        {
          "output_type": "stream",
          "name": "stdout",
          "text": [
            "tf.Tensor(\n",
            "[[[1 2]\n",
            "  [1 2]]\n",
            "\n",
            " [[1 2]\n",
            "  [1 2]]], shape=(2, 2, 2), dtype=int32)\n",
            "3\n"
          ]
        }
      ]
    },
    {
      "cell_type": "code",
      "source": [
        "tensor2 = tf.Variable([12,12,12])\n",
        "\n",
        "tensor2[0].assign(7)\n",
        "tensor2"
      ],
      "metadata": {
        "colab": {
          "base_uri": "https://localhost:8080/"
        },
        "id": "TS94qEfnuY4_",
        "outputId": "aaba2335-9710-49a7-e089-b86949feb69a"
      },
      "execution_count": 8,
      "outputs": [
        {
          "output_type": "execute_result",
          "data": {
            "text/plain": [
              "<tf.Variable 'Variable:0' shape=(3,) dtype=int32, numpy=array([ 7, 12, 12], dtype=int32)>"
            ]
          },
          "metadata": {},
          "execution_count": 8
        }
      ]
    },
    {
      "cell_type": "code",
      "source": [
        "random1 = tf.random.Generator.from_seed(42)\n",
        "random1 = random1.normal(shape=(3,2))\n",
        "random1"
      ],
      "metadata": {
        "colab": {
          "base_uri": "https://localhost:8080/"
        },
        "id": "sNZBC6Omu7x7",
        "outputId": "252bb6db-5294-4292-9dbf-ff178f43c5c7"
      },
      "execution_count": 9,
      "outputs": [
        {
          "output_type": "execute_result",
          "data": {
            "text/plain": [
              "<tf.Tensor: shape=(3, 2), dtype=float32, numpy=\n",
              "array([[-0.7565803 , -0.06854702],\n",
              "       [ 0.07595026, -1.2573844 ],\n",
              "       [-0.23193763, -1.8107855 ]], dtype=float32)>"
            ]
          },
          "metadata": {},
          "execution_count": 9
        }
      ]
    },
    {
      "cell_type": "code",
      "source": [
        "random2 = tf.random.Generator.from_seed(42)\n",
        "random2 = random2.uniform(shape=(3,2))\n",
        "random2"
      ],
      "metadata": {
        "colab": {
          "base_uri": "https://localhost:8080/"
        },
        "id": "XTcj0eBCvzYq",
        "outputId": "183c2ee0-fc30-4e0b-c814-614bcf38a74f"
      },
      "execution_count": 10,
      "outputs": [
        {
          "output_type": "execute_result",
          "data": {
            "text/plain": [
              "<tf.Tensor: shape=(3, 2), dtype=float32, numpy=\n",
              "array([[0.7493447 , 0.73561966],\n",
              "       [0.45230794, 0.49039817],\n",
              "       [0.1889317 , 0.52027524]], dtype=float32)>"
            ]
          },
          "metadata": {},
          "execution_count": 10
        }
      ]
    },
    {
      "cell_type": "code",
      "source": [
        "tf.random.set_seed(42)\n",
        "\n",
        "shuffled = tf.random.shuffle(random2,seed=42)\n",
        "shuffled"
      ],
      "metadata": {
        "colab": {
          "base_uri": "https://localhost:8080/"
        },
        "id": "TvcwyVTNwJrt",
        "outputId": "e10104f2-2247-4baf-b7c4-f9532ddaf1f1"
      },
      "execution_count": 11,
      "outputs": [
        {
          "output_type": "execute_result",
          "data": {
            "text/plain": [
              "<tf.Tensor: shape=(3, 2), dtype=float32, numpy=\n",
              "array([[0.7493447 , 0.73561966],\n",
              "       [0.45230794, 0.49039817],\n",
              "       [0.1889317 , 0.52027524]], dtype=float32)>"
            ]
          },
          "metadata": {},
          "execution_count": 11
        }
      ]
    },
    {
      "cell_type": "code",
      "source": [
        "tf.ones(5)\n",
        "tf.zeros(4)"
      ],
      "metadata": {
        "colab": {
          "base_uri": "https://localhost:8080/"
        },
        "id": "_E4raSMowv0A",
        "outputId": "50237c7f-ef59-42d4-c765-ce69f2cb4b24"
      },
      "execution_count": 12,
      "outputs": [
        {
          "output_type": "execute_result",
          "data": {
            "text/plain": [
              "<tf.Tensor: shape=(4,), dtype=float32, numpy=array([0., 0., 0., 0.], dtype=float32)>"
            ]
          },
          "metadata": {},
          "execution_count": 12
        }
      ]
    },
    {
      "cell_type": "code",
      "source": [
        "import numpy as np\n",
        "\n",
        "np_A = np.arange(1,25, dtype=np.int32)\n",
        "\n",
        "A = tf.constant(np_A,shape=(2,3,4))\n",
        "A"
      ],
      "metadata": {
        "colab": {
          "base_uri": "https://localhost:8080/"
        },
        "id": "eb1Yj43dxfSV",
        "outputId": "37c93661-cc8c-416c-9398-0459e80b6ef8"
      },
      "execution_count": 13,
      "outputs": [
        {
          "output_type": "execute_result",
          "data": {
            "text/plain": [
              "<tf.Tensor: shape=(2, 3, 4), dtype=int32, numpy=\n",
              "array([[[ 1,  2,  3,  4],\n",
              "        [ 5,  6,  7,  8],\n",
              "        [ 9, 10, 11, 12]],\n",
              "\n",
              "       [[13, 14, 15, 16],\n",
              "        [17, 18, 19, 20],\n",
              "        [21, 22, 23, 24]]], dtype=int32)>"
            ]
          },
          "metadata": {},
          "execution_count": 13
        }
      ]
    },
    {
      "cell_type": "markdown",
      "source": [
        "#Tensor attributes"
      ],
      "metadata": {
        "id": "IDWTRKDlzVmS"
      }
    },
    {
      "cell_type": "code",
      "source": [
        "print(A.shape)\n",
        "print(A.ndim)\n",
        "print(tf.size(A).numpy())\n",
        "print(A[:, 1].numpy())\n",
        "print(A.dtype)"
      ],
      "metadata": {
        "id": "tB6BoNSKyFk5",
        "colab": {
          "base_uri": "https://localhost:8080/"
        },
        "outputId": "9474e111-11fa-4c1d-8bc4-11aa260540f2"
      },
      "execution_count": 21,
      "outputs": [
        {
          "output_type": "stream",
          "name": "stdout",
          "text": [
            "(2, 3, 4)\n",
            "3\n",
            "24\n",
            "[[ 5  6  7  8]\n",
            " [17 18 19 20]]\n",
            "<dtype: 'int32'>\n"
          ]
        }
      ]
    },
    {
      "cell_type": "markdown",
      "source": [
        "#Tensor indexing"
      ],
      "metadata": {
        "id": "4D9f2bly04Xu"
      }
    },
    {
      "cell_type": "code",
      "source": [
        "tensor = tf.random.Generator.from_seed(42)\n",
        "tensor = tensor.normal(shape=(2,3,4,5,6))\n",
        "tensor"
      ],
      "metadata": {
        "colab": {
          "base_uri": "https://localhost:8080/"
        },
        "id": "qkQsYnFNz1m5",
        "outputId": "6b872f2a-5c51-42e3-d2d4-add146068166"
      },
      "execution_count": 24,
      "outputs": [
        {
          "output_type": "execute_result",
          "data": {
            "text/plain": [
              "<tf.Tensor: shape=(2, 3, 4, 5, 6), dtype=float32, numpy=\n",
              "array([[[[[-0.7565803 , -0.06854702,  0.07595026, -1.2573844 ,\n",
              "           -0.23193763, -1.8107855 ],\n",
              "          [ 0.09988727, -0.50998646, -0.7535805 , -0.57166284,\n",
              "            0.1480774 , -0.23362993],\n",
              "          [-0.3522796 ,  0.40621263, -1.0523509 ,  1.2054597 ,\n",
              "            1.6874489 , -0.4462975 ],\n",
              "          [-2.3410842 ,  0.99009085, -0.0876323 , -0.635568  ,\n",
              "           -0.6161736 , -1.9441465 ],\n",
              "          [-0.48293006, -0.52447474, -1.0345329 ,  1.3066901 ,\n",
              "           -1.5184573 , -0.4585211 ]],\n",
              "\n",
              "         [[ 0.5714663 , -1.5331722 ,  0.45331386,  1.1487608 ,\n",
              "           -1.2659091 , -0.47450137],\n",
              "          [ 2.006022  ,  0.28288034, -0.30288252, -1.443651  ,\n",
              "            1.0034493 ,  0.20857747],\n",
              "          [ 0.35700995,  1.0648885 ,  1.2432485 , -2.2173238 ,\n",
              "            0.18706243,  0.6617961 ],\n",
              "          [ 0.01380118, -0.24827152,  1.2111493 , -0.7199124 ,\n",
              "           -0.04082382,  2.6791053 ],\n",
              "          [ 1.0914806 ,  0.33149615, -0.67958915,  0.44723678,\n",
              "           -0.17811584,  0.24882518]],\n",
              "\n",
              "         [[ 0.49689844,  0.8259971 ,  1.0340209 , -0.24918638,\n",
              "           -1.5780283 , -0.92161775],\n",
              "          [ 0.268676  ,  0.9418312 , -0.9465717 , -0.7108357 ,\n",
              "            1.2995545 , -0.6149066 ],\n",
              "          [-1.4713507 , -0.10086866,  0.9603877 , -1.6370124 ,\n",
              "            0.17664973, -0.67038715],\n",
              "          [-0.503455  , -1.203792  , -2.5255601 ,  0.05080947,\n",
              "            1.7212061 , -0.6575125 ],\n",
              "          [ 0.7939443 ,  1.3212339 ,  0.34584793, -0.6699328 ,\n",
              "            0.4604257 ,  0.514933  ]],\n",
              "\n",
              "         [[-0.06519881, -1.442522  , -0.48492542, -1.8364043 ,\n",
              "            0.91463274,  0.5145402 ],\n",
              "          [ 0.5517507 , -0.3741098 , -0.28709963,  1.5089895 ,\n",
              "           -0.14833727, -1.2846565 ],\n",
              "          [ 0.5484313 ,  0.10596129,  0.21793836,  0.7063839 ,\n",
              "           -0.19219153,  1.1390278 ],\n",
              "          [ 0.29164317,  1.4531525 , -0.8223833 , -1.3446563 ,\n",
              "           -0.7183838 , -0.20373915],\n",
              "          [ 0.6291725 , -0.87623316, -0.5923522 ,  0.05643526,\n",
              "           -0.1698349 , -1.0965608 ]]],\n",
              "\n",
              "\n",
              "        [[[ 0.21116935, -0.41692957,  0.77891093,  0.39689952,\n",
              "           -1.1513817 ,  0.6533925 ],\n",
              "          [ 1.2390149 ,  0.8852658 , -0.67008066, -1.5614101 ,\n",
              "            0.6786617 , -1.0733451 ],\n",
              "          [-0.06093803, -0.99516404,  0.7279114 ,  1.3452564 ,\n",
              "            0.89255804,  0.54797494],\n",
              "          [-0.9483233 , -0.14723077, -0.3514068 ,  0.47631496,\n",
              "            0.52696466,  0.7645016 ],\n",
              "          [-1.4084325 , -1.8613014 ,  1.0928144 , -0.29996362,\n",
              "           -0.7382552 ,  1.2053189 ]],\n",
              "\n",
              "         [[-0.3511434 ,  0.13897082,  0.32744762, -0.3579723 ,\n",
              "            1.230323  , -0.13087   ],\n",
              "          [-0.44519424,  0.9551449 ,  0.24270573, -0.02293015,\n",
              "           -0.97063404, -0.7102746 ],\n",
              "          [ 0.4939478 ,  2.1883757 , -0.4953925 , -0.7584407 ,\n",
              "            0.13736533, -0.44198883],\n",
              "          [-0.65641224, -2.286797  ,  0.07126775,  2.3546815 ,\n",
              "            2.2539537 , -0.8510308 ],\n",
              "          [ 0.8119971 ,  2.0856276 ,  0.45117483, -0.90232193,\n",
              "           -1.5350152 ,  0.18753827]],\n",
              "\n",
              "         [[ 0.01724745,  1.071573  ,  0.32903498, -0.12147247,\n",
              "           -0.81168556,  1.0684562 ],\n",
              "          [ 0.03192343,  0.37305453,  0.67321086, -0.3633602 ,\n",
              "           -0.42805162,  0.16644211],\n",
              "          [ 0.71163535,  0.20890734, -0.25753435, -0.59981036,\n",
              "           -1.7857927 ,  0.0044825 ],\n",
              "          [ 0.16218606, -2.2107327 , -0.897285  ,  1.17089   ,\n",
              "           -0.70234615,  0.5083065 ],\n",
              "          [ 0.00482752,  2.1229115 , -0.81371665, -0.4322653 ,\n",
              "            0.02657839, -1.0271724 ]],\n",
              "\n",
              "         [[ 0.78655565,  0.28071532,  1.5479943 , -0.62931514,\n",
              "            1.177553  ,  0.4957259 ],\n",
              "          [-0.02589307,  1.1928992 ,  1.7263643 ,  0.7151379 ,\n",
              "           -1.0779938 , -1.1893024 ],\n",
              "          [ 0.08200742, -0.16774543, -0.17259961, -0.5513397 ,\n",
              "           -0.24820912, -0.15571186],\n",
              "          [-0.9934515 ,  1.4369737 ,  1.1249138 ,  0.77698714,\n",
              "           -0.90112925, -0.0175216 ],\n",
              "          [-0.4188493 ,  0.29532313,  0.08036723, -1.7199678 ,\n",
              "           -0.6891769 ,  0.22862972]]],\n",
              "\n",
              "\n",
              "        [[[-0.69891334, -0.11101238, -0.44537356,  0.1335287 ,\n",
              "            0.12417295,  0.96785086],\n",
              "          [-0.35425642, -0.8899504 ,  0.6247422 , -0.7167875 ,\n",
              "            1.2657576 , -0.04759569],\n",
              "          [-0.19674648, -0.7370393 , -0.72737205, -0.76012224,\n",
              "           -0.26312977,  0.54241335],\n",
              "          [-0.25226593,  0.43689874, -1.5446119 , -0.9279166 ,\n",
              "            1.5999255 , -0.88942885],\n",
              "          [-2.2454505 , -0.7396203 , -0.23432362,  0.8082244 ,\n",
              "           -1.2844347 , -1.278413  ]],\n",
              "\n",
              "         [[ 2.013582  ,  0.7836003 , -0.06117551, -0.07672564,\n",
              "           -0.24485688,  1.8566428 ],\n",
              "          [-0.6776444 ,  0.6394762 ,  1.4985782 , -1.0064988 ,\n",
              "           -1.831529  ,  0.45663303],\n",
              "          [-0.49801934,  1.6521827 , -0.7326468 , -0.6277212 ,\n",
              "            0.23591673, -0.5297533 ],\n",
              "          [ 0.10415798, -1.655111  ,  0.20270453, -0.05907417,\n",
              "           -0.08876546, -0.2818856 ],\n",
              "          [-1.2894468 ,  0.96435696, -0.6036719 , -1.071834  ,\n",
              "           -1.0722276 , -0.00586287]],\n",
              "\n",
              "         [[-0.88051033, -0.32426047, -2.4847078 , -0.26370478,\n",
              "           -0.48833993,  0.8617591 ],\n",
              "          [-1.1694205 , -0.5992111 , -1.9464397 ,  0.7705366 ,\n",
              "           -1.3326514 , -0.38218573],\n",
              "          [-1.766121  ,  1.4853729 ,  0.15317559,  0.26729542,\n",
              "           -2.3299215 ,  0.26317742],\n",
              "          [ 0.5479082 , -0.11180725,  0.82159203,  0.6540846 ,\n",
              "            0.08996315, -2.073694  ],\n",
              "          [ 0.8673864 , -0.29899067, -0.9310337 , -1.5828488 ,\n",
              "            1.2481191 , -0.6770643 ]],\n",
              "\n",
              "         [[ 0.0191265 , -0.29333332, -0.35438988,  0.07048975,\n",
              "           -0.4882456 , -0.56108433],\n",
              "          [-0.9890895 , -0.474985  , -1.3177569 , -1.7482879 ,\n",
              "           -1.6292503 ,  0.48826352],\n",
              "          [-1.8867823 ,  0.18151656,  0.24483992,  0.37554732,\n",
              "            1.6184237 ,  0.34223038],\n",
              "          [-0.3702979 , -0.99169385,  0.07253284,  0.2959086 ,\n",
              "           -0.31781763,  0.8365819 ],\n",
              "          [ 1.44539   ,  0.5045312 , -0.7224314 , -0.09014846,\n",
              "            0.12777153, -0.06497782]]]],\n",
              "\n",
              "\n",
              "\n",
              "       [[[[ 1.3639344 ,  1.5162361 , -0.5160658 , -1.5031487 ,\n",
              "            0.78185356,  0.669054  ],\n",
              "          [ 0.5000064 ,  0.7658164 , -0.19813427,  1.1101567 ,\n",
              "            0.8233347 ,  2.454505  ],\n",
              "          [-0.21202633,  0.6495798 , -0.29113603,  0.40688646,\n",
              "           -0.25519267,  0.17281583],\n",
              "          [ 2.6145976 ,  1.8622545 ,  0.73743194, -0.0129986 ,\n",
              "            0.7771184 , -0.00960819],\n",
              "          [ 0.23179719, -0.3566502 ,  0.2631579 ,  0.6768518 ,\n",
              "            0.5565707 ,  0.44276938]],\n",
              "\n",
              "         [[-1.0237199 ,  1.7124555 ,  0.6112835 ,  0.97992486,\n",
              "           -0.2288657 , -0.35827154],\n",
              "          [ 0.79976535, -1.2027831 , -0.80555516,  0.3574244 ,\n",
              "            2.3378344 , -0.39006013],\n",
              "          [-0.44232062, -1.2952929 ,  0.81038696, -1.915971  ,\n",
              "            0.77674466,  0.7285135 ],\n",
              "          [ 1.6453348 , -0.62385917, -3.0093665 ,  0.24699263,\n",
              "           -1.2662416 ,  1.4435335 ],\n",
              "          [ 1.6701231 ,  0.80882853, -0.30762148, -0.17802094,\n",
              "           -0.15166   ,  0.05017854]],\n",
              "\n",
              "         [[-0.33411473, -0.31888655, -0.9834956 , -0.81987065,\n",
              "           -0.6729547 , -0.41192535],\n",
              "          [ 0.76766264,  0.56652683, -0.03278295, -1.1923548 ,\n",
              "           -0.9543292 ,  0.27305996],\n",
              "          [-0.4884917 , -1.7098985 ,  0.7963727 , -1.9695035 ,\n",
              "            0.9808784 , -1.5287447 ],\n",
              "          [-0.28718686,  0.9083854 ,  0.64412975,  1.0008438 ,\n",
              "           -2.6962886 , -1.0752867 ],\n",
              "          [ 1.493164  , -0.28871155,  0.31284064,  1.663845  ,\n",
              "           -1.028107  , -0.60134953]],\n",
              "\n",
              "         [[ 0.455365  ,  0.18552932, -2.0545108 , -1.7917832 ,\n",
              "           -0.781357  ,  1.7088543 ],\n",
              "          [-1.3043518 , -0.7714498 , -1.3041753 ,  1.5936204 ,\n",
              "            0.89297235,  1.5463222 ],\n",
              "          [-0.8302462 , -1.4948393 ,  0.38628715, -1.2676666 ,\n",
              "            0.12750275,  0.12517293],\n",
              "          [ 0.3160493 , -1.3636322 ,  0.5770591 ,  0.30280197,\n",
              "           -3.3228774 , -0.27568147],\n",
              "          [ 0.24829084, -0.90035295, -2.2462475 , -0.45878425,\n",
              "           -1.9838426 ,  1.0531965 ]]],\n",
              "\n",
              "\n",
              "        [[[ 0.16383527,  0.08420128, -0.35761365,  0.52944607,\n",
              "            1.0076104 , -1.5559709 ],\n",
              "          [-0.07964771, -0.9121828 ,  1.4299089 ,  1.1519113 ,\n",
              "            2.4963074 ,  0.7028313 ],\n",
              "          [-0.638703  ,  1.2545483 ,  0.15263537, -0.38345093,\n",
              "           -0.1335102 ,  0.17139332],\n",
              "          [-0.21565591, -0.06827872,  0.30605847, -0.7204267 ,\n",
              "            0.0638603 ,  0.749325  ],\n",
              "          [ 0.87557787,  1.3275943 , -0.79108816,  1.4859759 ,\n",
              "            1.8666607 ,  0.7533293 ]],\n",
              "\n",
              "         [[ 1.9076191 , -0.608725  ,  0.24848886,  1.6994172 ,\n",
              "           -1.5094819 ,  0.31803966],\n",
              "          [ 1.2315764 ,  1.2378134 , -0.5333003 ,  0.5499724 ,\n",
              "            0.8250944 ,  0.02531349],\n",
              "          [ 1.0933133 , -1.0848625 ,  0.5705757 ,  1.4181882 ,\n",
              "            0.3818096 , -2.1699402 ],\n",
              "          [ 0.25425676, -0.4321791 ,  1.1739746 ,  0.34979692,\n",
              "           -0.3643946 , -3.1925747 ],\n",
              "          [ 0.74550235,  1.6823604 ,  1.0547173 ,  0.43973717,\n",
              "           -1.5463331 , -0.2522205 ]],\n",
              "\n",
              "         [[-1.4901395 , -1.8220098 , -1.3729551 ,  1.8063134 ,\n",
              "            0.53567237, -0.5886912 ],\n",
              "          [-0.5933507 ,  0.9765769 , -1.0644387 , -0.15964095,\n",
              "            0.20708817, -0.88769746],\n",
              "          [-0.4291407 ,  1.0496043 ,  0.85257185,  0.36788857,\n",
              "            0.5011535 , -0.44812107],\n",
              "          [ 0.3995735 , -2.1588635 , -0.16122076, -1.040813  ,\n",
              "            0.44564843, -1.1353635 ],\n",
              "          [ 0.06766166, -0.36882195,  0.74598795, -0.23114283,\n",
              "           -1.0750333 , -0.9491441 ]],\n",
              "\n",
              "         [[ 0.42502043, -1.3267432 ,  0.01515209, -0.5099852 ,\n",
              "           -1.6957084 ,  0.2771412 ],\n",
              "          [ 0.39587766, -1.4373472 , -0.7789885 ,  0.43568256,\n",
              "            0.51676977,  0.5126531 ],\n",
              "          [-1.1681564 , -0.57357186, -1.0469201 ,  1.206273  ,\n",
              "            1.3070114 ,  0.52296627],\n",
              "          [ 1.1305656 , -0.36720887, -0.40844494, -0.9370698 ,\n",
              "           -0.75371194, -1.7472465 ],\n",
              "          [-0.26269418,  0.3709909 ,  0.05165245,  0.16512105,\n",
              "            1.155565  , -0.10707551]]],\n",
              "\n",
              "\n",
              "        [[[-1.5306779 , -0.86202925, -0.16359143, -0.67677325,\n",
              "           -0.79654586, -0.5771628 ],\n",
              "          [-0.49702242,  2.0209744 , -0.46608835,  0.9983581 ,\n",
              "            0.06456684,  0.45177236],\n",
              "          [ 2.1859412 , -1.9792428 , -0.60278213, -0.1955588 ,\n",
              "           -2.2217557 ,  0.14620116],\n",
              "          [ 1.4261069 ,  1.2435281 , -0.56973815,  0.4811077 ,\n",
              "           -0.88976276,  0.7566213 ],\n",
              "          [-0.39527828, -0.886686  , -1.9314538 ,  1.0488598 ,\n",
              "           -0.68355304,  1.4119853 ]],\n",
              "\n",
              "         [[-0.6809848 ,  0.66392314, -0.8305169 ,  1.543791  ,\n",
              "           -0.5432179 ,  0.36891136],\n",
              "          [ 1.6245334 , -0.9666689 ,  1.1505979 ,  0.50943327,\n",
              "            0.8272026 , -0.10641344],\n",
              "          [-0.07449543, -0.39326796, -0.7901926 ,  1.7228076 ,\n",
              "            1.2089248 , -1.8124938 ],\n",
              "          [-0.22183064,  0.11441319, -0.26636657,  1.6400808 ,\n",
              "           -0.976321  , -1.1680746 ],\n",
              "          [-0.2497501 ,  0.98737234,  0.64001775, -0.12053991,\n",
              "           -1.2248999 , -0.6170378 ]],\n",
              "\n",
              "         [[-0.63352513,  0.5734032 , -0.2029834 ,  0.07099114,\n",
              "           -0.5095768 ,  0.3482001 ],\n",
              "          [ 0.15985982, -1.9042184 ,  0.9690504 ,  0.16251186,\n",
              "           -0.07330752, -0.360591  ],\n",
              "          [ 0.18739441, -0.73353654,  1.2104433 ,  1.5603006 ,\n",
              "           -0.48115277,  0.6335167 ],\n",
              "          [-0.5612103 ,  0.06994031,  1.6807095 , -1.2316035 ,\n",
              "           -0.73452556,  1.9862545 ],\n",
              "          [ 0.5880542 , -1.8660324 , -0.7760061 ,  0.95657086,\n",
              "            0.0774198 ,  0.7541252 ]],\n",
              "\n",
              "         [[ 1.2174032 , -0.28159192,  0.18493211, -1.0208026 ,\n",
              "           -0.7255705 ,  0.27163377],\n",
              "          [ 0.65059733, -0.5761351 , -1.6905216 ,  1.2155762 ,\n",
              "            0.49306154, -0.9191154 ],\n",
              "          [ 0.16707349,  0.450621  ,  1.3943818 , -1.1448481 ,\n",
              "           -2.2105272 , -0.9077569 ],\n",
              "          [ 0.81677693, -0.35697743, -0.62204176,  0.3929088 ,\n",
              "           -0.06998006, -0.8189302 ],\n",
              "          [ 1.3991104 ,  0.79288673,  0.02700637,  0.05404254,\n",
              "           -0.7465786 ,  0.46939567]]]]], dtype=float32)>"
            ]
          },
          "metadata": {},
          "execution_count": 24
        }
      ]
    },
    {
      "cell_type": "code",
      "source": [
        "tensor[:1,:1,:1,:1, :].numpy()"
      ],
      "metadata": {
        "colab": {
          "base_uri": "https://localhost:8080/"
        },
        "id": "DYkIIarP1G7X",
        "outputId": "f986e565-b8a6-4bb7-b951-185be574fc81"
      },
      "execution_count": 29,
      "outputs": [
        {
          "output_type": "execute_result",
          "data": {
            "text/plain": [
              "array([[[[[-0.7565803 , -0.06854702,  0.07595026, -1.2573844 ,\n",
              "           -0.23193763, -1.8107855 ]]]]], dtype=float32)"
            ]
          },
          "metadata": {},
          "execution_count": 29
        }
      ]
    },
    {
      "cell_type": "code",
      "source": [
        "rank2tensor = tf.ones(shape=(2,2))\n",
        "rank2tensor[:, -1]"
      ],
      "metadata": {
        "colab": {
          "base_uri": "https://localhost:8080/"
        },
        "id": "ggk4AZgl1bni",
        "outputId": "37fd70ba-6a47-42d4-a306-f50efa0cda7a"
      },
      "execution_count": 33,
      "outputs": [
        {
          "output_type": "execute_result",
          "data": {
            "text/plain": [
              "<tf.Tensor: shape=(2,), dtype=float32, numpy=array([1., 1.], dtype=float32)>"
            ]
          },
          "metadata": {},
          "execution_count": 33
        }
      ]
    },
    {
      "cell_type": "code",
      "source": [
        "rank3tensor = rank2tensor[...,tf.newaxis]\n",
        "rank3tensor"
      ],
      "metadata": {
        "colab": {
          "base_uri": "https://localhost:8080/"
        },
        "id": "WSWNTk-82HHH",
        "outputId": "e9d34e89-898e-4edc-f2a2-eff93513cb9c"
      },
      "execution_count": 34,
      "outputs": [
        {
          "output_type": "execute_result",
          "data": {
            "text/plain": [
              "<tf.Tensor: shape=(2, 2, 1), dtype=float32, numpy=\n",
              "array([[[1.],\n",
              "        [1.]],\n",
              "\n",
              "       [[1.],\n",
              "        [1.]]], dtype=float32)>"
            ]
          },
          "metadata": {},
          "execution_count": 34
        }
      ]
    },
    {
      "cell_type": "code",
      "source": [
        "rank4tensor = tf.expand_dims(rank3tensor, axis=-1)\n",
        "rank4tensor"
      ],
      "metadata": {
        "colab": {
          "base_uri": "https://localhost:8080/"
        },
        "id": "KSIirBnN2UXA",
        "outputId": "2ec8d4fd-3136-4fe7-bddd-1aeef13adc48"
      },
      "execution_count": 38,
      "outputs": [
        {
          "output_type": "execute_result",
          "data": {
            "text/plain": [
              "<tf.Tensor: shape=(2, 2, 1, 1), dtype=float32, numpy=\n",
              "array([[[[1.]],\n",
              "\n",
              "        [[1.]]],\n",
              "\n",
              "\n",
              "       [[[1.]],\n",
              "\n",
              "        [[1.]]]], dtype=float32)>"
            ]
          },
          "metadata": {},
          "execution_count": 38
        }
      ]
    },
    {
      "cell_type": "markdown",
      "source": [
        "#Manipulating tensors"
      ],
      "metadata": {
        "id": "LobXJn793CmM"
      }
    },
    {
      "cell_type": "code",
      "source": [
        "rank2tensor + 4"
      ],
      "metadata": {
        "colab": {
          "base_uri": "https://localhost:8080/"
        },
        "id": "Oskk023O2yTU",
        "outputId": "98e73e70-3ca1-477a-df8f-ae0f7b1d8832"
      },
      "execution_count": 39,
      "outputs": [
        {
          "output_type": "execute_result",
          "data": {
            "text/plain": [
              "<tf.Tensor: shape=(2, 2), dtype=float32, numpy=\n",
              "array([[5., 5.],\n",
              "       [5., 5.]], dtype=float32)>"
            ]
          },
          "metadata": {},
          "execution_count": 39
        }
      ]
    },
    {
      "cell_type": "code",
      "source": [
        "rank2tensor * 0.1"
      ],
      "metadata": {
        "colab": {
          "base_uri": "https://localhost:8080/"
        },
        "id": "pWXqsUxy3aAQ",
        "outputId": "fa93b598-34fa-47af-9445-4035e210c286"
      },
      "execution_count": 40,
      "outputs": [
        {
          "output_type": "execute_result",
          "data": {
            "text/plain": [
              "<tf.Tensor: shape=(2, 2), dtype=float32, numpy=\n",
              "array([[0.1, 0.1],\n",
              "       [0.1, 0.1]], dtype=float32)>"
            ]
          },
          "metadata": {},
          "execution_count": 40
        }
      ]
    },
    {
      "cell_type": "code",
      "source": [
        "tf.multiply(rank2tensor,10)"
      ],
      "metadata": {
        "colab": {
          "base_uri": "https://localhost:8080/"
        },
        "id": "jc775L3z3l3h",
        "outputId": "8614fe9f-e95a-4ec5-8960-421ef780e310"
      },
      "execution_count": 41,
      "outputs": [
        {
          "output_type": "execute_result",
          "data": {
            "text/plain": [
              "<tf.Tensor: shape=(2, 2), dtype=float32, numpy=\n",
              "array([[10., 10.],\n",
              "       [10., 10.]], dtype=float32)>"
            ]
          },
          "metadata": {},
          "execution_count": 41
        }
      ]
    },
    {
      "cell_type": "code",
      "source": [
        "tf.matmul(rank2tensor,rank2tensor)"
      ],
      "metadata": {
        "colab": {
          "base_uri": "https://localhost:8080/"
        },
        "id": "TTRtZPGO3yl0",
        "outputId": "c7556efb-9904-44ed-e4e0-5571e3bf6c81"
      },
      "execution_count": 42,
      "outputs": [
        {
          "output_type": "execute_result",
          "data": {
            "text/plain": [
              "<tf.Tensor: shape=(2, 2), dtype=float32, numpy=\n",
              "array([[2., 2.],\n",
              "       [2., 2.]], dtype=float32)>"
            ]
          },
          "metadata": {},
          "execution_count": 42
        }
      ]
    },
    {
      "cell_type": "code",
      "source": [
        "X = tf.random.Generator.from_seed(42)\n",
        "X = X.normal(shape=(2,3))\n",
        "X"
      ],
      "metadata": {
        "colab": {
          "base_uri": "https://localhost:8080/"
        },
        "id": "GBVAS_1r4TTO",
        "outputId": "f03859b4-def4-4896-d24d-8c1e5c7c67b1"
      },
      "execution_count": 44,
      "outputs": [
        {
          "output_type": "execute_result",
          "data": {
            "text/plain": [
              "<tf.Tensor: shape=(2, 3), dtype=float32, numpy=\n",
              "array([[-0.7565803 , -0.06854702,  0.07595026],\n",
              "       [-1.2573844 , -0.23193763, -1.8107855 ]], dtype=float32)>"
            ]
          },
          "metadata": {},
          "execution_count": 44
        }
      ]
    },
    {
      "cell_type": "code",
      "source": [
        "tf.matmul(rank2tensor, X)"
      ],
      "metadata": {
        "colab": {
          "base_uri": "https://localhost:8080/"
        },
        "id": "02DWDmF84toq",
        "outputId": "ba350bf4-9989-4674-f238-a481de6f7dff"
      },
      "execution_count": 45,
      "outputs": [
        {
          "output_type": "execute_result",
          "data": {
            "text/plain": [
              "<tf.Tensor: shape=(2, 3), dtype=float32, numpy=\n",
              "array([[-2.0139647 , -0.30048466, -1.7348353 ],\n",
              "       [-2.0139647 , -0.30048466, -1.7348353 ]], dtype=float32)>"
            ]
          },
          "metadata": {},
          "execution_count": 45
        }
      ]
    },
    {
      "cell_type": "code",
      "source": [
        "tf.matmul(tf.transpose(X), X)"
      ],
      "metadata": {
        "colab": {
          "base_uri": "https://localhost:8080/"
        },
        "id": "wafRH_-r40GC",
        "outputId": "5b61c63f-bb67-4972-f33f-f60491feac04"
      },
      "execution_count": 46,
      "outputs": [
        {
          "output_type": "execute_result",
          "data": {
            "text/plain": [
              "<tf.Tensor: shape=(3, 3), dtype=float32, numpy=\n",
              "array([[2.1534293 , 0.34349608, 2.219391  ],\n",
              "       [0.34349608, 0.05849376, 0.41478315],\n",
              "       [2.219391  , 0.41478315, 3.2847128 ]], dtype=float32)>"
            ]
          },
          "metadata": {},
          "execution_count": 46
        }
      ]
    },
    {
      "cell_type": "code",
      "source": [
        "tf.matmul(X, tf.transpose(X))"
      ],
      "metadata": {
        "colab": {
          "base_uri": "https://localhost:8080/"
        },
        "id": "tVNKIX_B5Xa-",
        "outputId": "4562ac49-c4d9-41ca-d391-7ed8117f2790"
      },
      "execution_count": 47,
      "outputs": [
        {
          "output_type": "execute_result",
          "data": {
            "text/plain": [
              "<tf.Tensor: shape=(2, 2), dtype=float32, numpy=\n",
              "array([[0.58288085, 0.8296813 ],\n",
              "       [0.8296813 , 4.913755  ]], dtype=float32)>"
            ]
          },
          "metadata": {},
          "execution_count": 47
        }
      ]
    },
    {
      "cell_type": "code",
      "source": [
        "B = tf.constant([1.74,7.426])\n",
        "B.dtype"
      ],
      "metadata": {
        "colab": {
          "base_uri": "https://localhost:8080/"
        },
        "id": "DWp45fUE5axm",
        "outputId": "1cec939a-2e12-4d48-8ae8-d4880e876956"
      },
      "execution_count": 48,
      "outputs": [
        {
          "output_type": "execute_result",
          "data": {
            "text/plain": [
              "tf.float32"
            ]
          },
          "metadata": {},
          "execution_count": 48
        }
      ]
    },
    {
      "cell_type": "code",
      "source": [
        "B = tf.cast(B, dtype=tf.float16)\n",
        "B.dtype"
      ],
      "metadata": {
        "colab": {
          "base_uri": "https://localhost:8080/"
        },
        "id": "SpG-UEXI6IsM",
        "outputId": "2ed18d30-eab9-4995-caae-3127503b5af9"
      },
      "execution_count": 52,
      "outputs": [
        {
          "output_type": "execute_result",
          "data": {
            "text/plain": [
              "tf.float16"
            ]
          },
          "metadata": {},
          "execution_count": 52
        }
      ]
    },
    {
      "cell_type": "code",
      "source": [
        "print(tf.abs(X))\n",
        "print(tf.reduce_max(X))\n",
        "print(tf.reduce_min(X))\n",
        "print(tf.reduce_mean(X))\n",
        "print(tf.reduce_sum(X))\n",
        "print(tf.argmin(X))\n",
        "print(tf.argmax(X))"
      ],
      "metadata": {
        "colab": {
          "base_uri": "https://localhost:8080/"
        },
        "id": "iifFhT1E6Xzd",
        "outputId": "3725165b-9d7a-4659-dd07-0de188459b36"
      },
      "execution_count": 66,
      "outputs": [
        {
          "output_type": "stream",
          "name": "stdout",
          "text": [
            "tf.Tensor(\n",
            "[[0.7565803  0.06854702 0.07595026]\n",
            " [1.2573844  0.23193763 1.8107855 ]], shape=(2, 3), dtype=float32)\n",
            "tf.Tensor(0.07595026, shape=(), dtype=float32)\n",
            "tf.Tensor(-1.8107855, shape=(), dtype=float32)\n",
            "tf.Tensor(-0.6748808, shape=(), dtype=float32)\n",
            "tf.Tensor(-4.049285, shape=(), dtype=float32)\n",
            "tf.Tensor([1 1 1], shape=(3,), dtype=int64)\n",
            "tf.Tensor([0 0 0], shape=(3,), dtype=int64)\n"
          ]
        }
      ]
    },
    {
      "cell_type": "code",
      "source": [
        "rank4tensor"
      ],
      "metadata": {
        "colab": {
          "base_uri": "https://localhost:8080/"
        },
        "id": "imoDVrG-65E4",
        "outputId": "922fb395-33b4-4834-91bd-3d72dd22585a"
      },
      "execution_count": 67,
      "outputs": [
        {
          "output_type": "execute_result",
          "data": {
            "text/plain": [
              "<tf.Tensor: shape=(2, 2, 1, 1), dtype=float32, numpy=\n",
              "array([[[[1.]],\n",
              "\n",
              "        [[1.]]],\n",
              "\n",
              "\n",
              "       [[[1.]],\n",
              "\n",
              "        [[1.]]]], dtype=float32)>"
            ]
          },
          "metadata": {},
          "execution_count": 67
        }
      ]
    },
    {
      "cell_type": "code",
      "source": [
        "tf.squeeze(rank4tensor), tf.squeeze(rank4tensor).shape"
      ],
      "metadata": {
        "colab": {
          "base_uri": "https://localhost:8080/"
        },
        "id": "cIwxl8jP8p3V",
        "outputId": "a6c53a6a-08c6-4fe5-83cb-27c713ae2c12"
      },
      "execution_count": 69,
      "outputs": [
        {
          "output_type": "execute_result",
          "data": {
            "text/plain": [
              "(<tf.Tensor: shape=(2, 2), dtype=float32, numpy=\n",
              " array([[1., 1.],\n",
              "        [1., 1.]], dtype=float32)>,\n",
              " TensorShape([2, 2]))"
            ]
          },
          "metadata": {},
          "execution_count": 69
        }
      ]
    },
    {
      "cell_type": "code",
      "source": [
        "some_list = [0,1,2,3]\n",
        "tf.one_hot(some_list, 4)"
      ],
      "metadata": {
        "colab": {
          "base_uri": "https://localhost:8080/"
        },
        "id": "hw519klk9GZA",
        "outputId": "d25f6c32-70a7-441d-a7c1-0f0699e42693"
      },
      "execution_count": 74,
      "outputs": [
        {
          "output_type": "execute_result",
          "data": {
            "text/plain": [
              "<tf.Tensor: shape=(4, 4), dtype=float32, numpy=\n",
              "array([[1., 0., 0., 0.],\n",
              "       [0., 1., 0., 0.],\n",
              "       [0., 0., 1., 0.],\n",
              "       [0., 0., 0., 1.]], dtype=float32)>"
            ]
          },
          "metadata": {},
          "execution_count": 74
        }
      ]
    },
    {
      "cell_type": "code",
      "source": [
        "C = tf.range(1,10)\n",
        "C"
      ],
      "metadata": {
        "colab": {
          "base_uri": "https://localhost:8080/"
        },
        "id": "wHamKTYH9Zfy",
        "outputId": "1701ebb3-30be-4d8a-b92b-e5b7d552685f"
      },
      "execution_count": 75,
      "outputs": [
        {
          "output_type": "execute_result",
          "data": {
            "text/plain": [
              "<tf.Tensor: shape=(9,), dtype=int32, numpy=array([1, 2, 3, 4, 5, 6, 7, 8, 9], dtype=int32)>"
            ]
          },
          "metadata": {},
          "execution_count": 75
        }
      ]
    },
    {
      "cell_type": "code",
      "source": [
        "tf.square(C)"
      ],
      "metadata": {
        "colab": {
          "base_uri": "https://localhost:8080/"
        },
        "id": "OTyaZTKG-An_",
        "outputId": "a771e016-5c31-435b-8b6c-3d71468d2248"
      },
      "execution_count": 76,
      "outputs": [
        {
          "output_type": "execute_result",
          "data": {
            "text/plain": [
              "<tf.Tensor: shape=(9,), dtype=int32, numpy=array([ 1,  4,  9, 16, 25, 36, 49, 64, 81], dtype=int32)>"
            ]
          },
          "metadata": {},
          "execution_count": 76
        }
      ]
    },
    {
      "cell_type": "code",
      "source": [
        "D = tf.cast(C,dtype=tf.float32)\n",
        "tf.sqrt(D)"
      ],
      "metadata": {
        "colab": {
          "base_uri": "https://localhost:8080/"
        },
        "id": "pAXg_6D1-DWh",
        "outputId": "614cdd43-beec-4e46-8ca8-4741696602fe"
      },
      "execution_count": 77,
      "outputs": [
        {
          "output_type": "execute_result",
          "data": {
            "text/plain": [
              "<tf.Tensor: shape=(9,), dtype=float32, numpy=\n",
              "array([1.       , 1.4142135, 1.7320508, 2.       , 2.236068 , 2.4494898,\n",
              "       2.6457512, 2.828427 , 3.       ], dtype=float32)>"
            ]
          },
          "metadata": {},
          "execution_count": 77
        }
      ]
    },
    {
      "cell_type": "code",
      "source": [
        "tf.math.log(D)"
      ],
      "metadata": {
        "colab": {
          "base_uri": "https://localhost:8080/"
        },
        "id": "pQurjV58-Qdx",
        "outputId": "d13b4e49-2094-4123-d718-4282a884f4c8"
      },
      "execution_count": 79,
      "outputs": [
        {
          "output_type": "execute_result",
          "data": {
            "text/plain": [
              "<tf.Tensor: shape=(9,), dtype=float32, numpy=\n",
              "array([0.       , 0.6931472, 1.0986123, 1.3862944, 1.609438 , 1.7917595,\n",
              "       1.9459102, 2.0794415, 2.1972246], dtype=float32)>"
            ]
          },
          "metadata": {},
          "execution_count": 79
        }
      ]
    },
    {
      "cell_type": "markdown",
      "source": [
        "#Tensors and Numpy"
      ],
      "metadata": {
        "id": "bvtVSTey-e9J"
      }
    },
    {
      "cell_type": "code",
      "source": [
        "import numpy as np"
      ],
      "metadata": {
        "id": "8cTvudsi-SU5"
      },
      "execution_count": 80,
      "outputs": []
    },
    {
      "cell_type": "code",
      "source": [
        "E = tf.constant(np.array([3.,4.,5.,6.]))\n",
        "E"
      ],
      "metadata": {
        "colab": {
          "base_uri": "https://localhost:8080/"
        },
        "id": "l3cMSBEN-ifi",
        "outputId": "544caa10-665f-4d2f-b909-bccd86084733"
      },
      "execution_count": 82,
      "outputs": [
        {
          "output_type": "execute_result",
          "data": {
            "text/plain": [
              "<tf.Tensor: shape=(4,), dtype=float64, numpy=array([3., 4., 5., 6.])>"
            ]
          },
          "metadata": {},
          "execution_count": 82
        }
      ]
    },
    {
      "cell_type": "code",
      "source": [
        "np_E = np.array(E)\n",
        "# or np_E = E.numpy()\n",
        "np_E"
      ],
      "metadata": {
        "colab": {
          "base_uri": "https://localhost:8080/"
        },
        "id": "smCdfO5c-rrb",
        "outputId": "a7c0e2e0-f686-47ce-ce5c-a7c925319494"
      },
      "execution_count": 86,
      "outputs": [
        {
          "output_type": "execute_result",
          "data": {
            "text/plain": [
              "array([3., 4., 5., 6.])"
            ]
          },
          "metadata": {},
          "execution_count": 86
        }
      ]
    },
    {
      "cell_type": "code",
      "source": [
        "tf_E = tf.constant([3.,4.,5.,6.])"
      ],
      "metadata": {
        "id": "J6tBXaP7_X0I"
      },
      "execution_count": 89,
      "outputs": []
    },
    {
      "cell_type": "code",
      "source": [
        "np_E.dtype, tf_E.dtype"
      ],
      "metadata": {
        "colab": {
          "base_uri": "https://localhost:8080/"
        },
        "id": "_oiSW5Gr-w3k",
        "outputId": "e32210b0-4635-4b1c-fe5e-78a375063dfa"
      },
      "execution_count": 90,
      "outputs": [
        {
          "output_type": "execute_result",
          "data": {
            "text/plain": [
              "(dtype('float64'), tf.float32)"
            ]
          },
          "metadata": {},
          "execution_count": 90
        }
      ]
    },
    {
      "cell_type": "markdown",
      "source": [
        "# GPU"
      ],
      "metadata": {
        "id": "MbeS9BDz_4ab"
      }
    },
    {
      "cell_type": "code",
      "source": [
        "tf.config.list_physical_devices()"
      ],
      "metadata": {
        "colab": {
          "base_uri": "https://localhost:8080/"
        },
        "id": "Pr_dYy0-_Uc5",
        "outputId": "9e9df6c0-252f-4cba-8046-303cbb9dd53e"
      },
      "execution_count": 91,
      "outputs": [
        {
          "output_type": "execute_result",
          "data": {
            "text/plain": [
              "[PhysicalDevice(name='/physical_device:CPU:0', device_type='CPU')]"
            ]
          },
          "metadata": {},
          "execution_count": 91
        }
      ]
    },
    {
      "cell_type": "code",
      "source": [
        "tf.config.list_physical_devices()"
      ],
      "metadata": {
        "colab": {
          "base_uri": "https://localhost:8080/"
        },
        "id": "xlRAY6y8_9vF",
        "outputId": "dce98317-7f7a-4f29-82ef-6123825db6c6"
      },
      "execution_count": 2,
      "outputs": [
        {
          "output_type": "execute_result",
          "data": {
            "text/plain": [
              "[PhysicalDevice(name='/physical_device:CPU:0', device_type='CPU'),\n",
              " PhysicalDevice(name='/physical_device:GPU:0', device_type='GPU')]"
            ]
          },
          "metadata": {},
          "execution_count": 2
        }
      ]
    },
    {
      "cell_type": "code",
      "source": [
        "!nvidia-smi"
      ],
      "metadata": {
        "colab": {
          "base_uri": "https://localhost:8080/"
        },
        "id": "6fFFLt9SAOnm",
        "outputId": "11f03d3e-c176-43f6-98f5-51ba1f10f66e"
      },
      "execution_count": 3,
      "outputs": [
        {
          "output_type": "stream",
          "name": "stdout",
          "text": [
            "Sun May  4 15:53:56 2025       \n",
            "+-----------------------------------------------------------------------------------------+\n",
            "| NVIDIA-SMI 550.54.15              Driver Version: 550.54.15      CUDA Version: 12.4     |\n",
            "|-----------------------------------------+------------------------+----------------------+\n",
            "| GPU  Name                 Persistence-M | Bus-Id          Disp.A | Volatile Uncorr. ECC |\n",
            "| Fan  Temp   Perf          Pwr:Usage/Cap |           Memory-Usage | GPU-Util  Compute M. |\n",
            "|                                         |                        |               MIG M. |\n",
            "|=========================================+========================+======================|\n",
            "|   0  Tesla T4                       Off |   00000000:00:04.0 Off |                    0 |\n",
            "| N/A   41C    P8             10W /   70W |       2MiB /  15360MiB |      0%      Default |\n",
            "|                                         |                        |                  N/A |\n",
            "+-----------------------------------------+------------------------+----------------------+\n",
            "                                                                                         \n",
            "+-----------------------------------------------------------------------------------------+\n",
            "| Processes:                                                                              |\n",
            "|  GPU   GI   CI        PID   Type   Process name                              GPU Memory |\n",
            "|        ID   ID                                                               Usage      |\n",
            "|=========================================================================================|\n",
            "|  No running processes found                                                             |\n",
            "+-----------------------------------------------------------------------------------------+\n"
          ]
        }
      ]
    },
    {
      "cell_type": "code",
      "source": [],
      "metadata": {
        "id": "XAaz79CyAQs3"
      },
      "execution_count": null,
      "outputs": []
    }
  ]
}